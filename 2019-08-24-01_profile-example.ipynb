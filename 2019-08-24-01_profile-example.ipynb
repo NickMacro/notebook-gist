{
 "cells": [
  {
   "cell_type": "markdown",
   "metadata": {},
   "source": [
    "# Purpose\n",
    "Facilitate discussion of potential to optimize curve fitting via the lmfit library.\n",
    "\n",
    "# Simplifications\n",
    "The model in this document is a simplified version of the actual model.  Here, it is a three exponential decay with well separated decay time scales and a fixed amplitude at x = 0.  We also have three separate multiexponentials that need to be solved together.  For simplicity, the parameters for each multiexponential are the same value.  This simplification is not the case in reality.  Additionally, this notebook also does not have fully optimized model computation, but it is sufficient for the discussion.\n",
    "\n",
    "# Conclusions\n",
    "In this notebook, we can see that `getval` accounts for a significant portion of cumulative time when one of the parameters is defined using `expr`.  If the constraint defined using `expr` is removed, the total computation time increases and the percent cumulative time decreases.  The model can be rewritten to explicitly include the constraint in the model (this reduces the flexibility, but will be fine for this particular task) which provides a lower percent contribution of `getval` and lower overall computation time.\n",
    "\n",
    "#### Process with Constrained Amplitude (using expr in parameters)\n",
    "|Process Name|Cumulative Time (s)|Percent of Multiexponential|\n",
    "|-|-|-|\n",
    "|general_multiexponential|7.1|100|\n",
    "|compute_multiexponentials|2.6|37|\n",
    "|_getval|3.9|55|\n",
    "\n",
    "\n",
    "#### Process without Constrained Amplitude\n",
    "|Process Name|Cumulative Time (s)|Percent of Multiexponential|\n",
    "|-|-|-|\n",
    "|general_multiexponential|15.9|100|\n",
    "|compute_multiexponentials|9.9|62|\n",
    "|_getval|2.0|13|\n",
    "\n",
    "\n",
    "\n",
    "#### Process with Constrained Amplitude (coded into model, no expr in parameters)\n",
    "|Process Name|Cumulative Time (s)|Percent of Multiexponential|\n",
    "|-|-|-|\n",
    "|hardcoded_multiexponential|3.1|100|\n",
    "|compute_multiexponentials|2.0|65|\n",
    "|_getval|0.3|10|\n",
    "\n",
    "The effects of using `expr` in a Parameters object is further investigated with the conclusion that `param[name]` is 10x faster than `param[name].value` when using `value` instead of `expr`.  When `expr` is used, the difference becomes 100x."
   ]
  },
  {
   "cell_type": "code",
   "execution_count": 1,
   "metadata": {},
   "outputs": [],
   "source": [
    "import lmfit\n",
    "import numba\n",
    "import numpy as np\n",
    "\n",
    "from sys import version"
   ]
  },
  {
   "cell_type": "code",
   "execution_count": 2,
   "metadata": {},
   "outputs": [],
   "source": [
    "@numba.njit()\n",
    "def compute_exponential(x, A, T):\n",
    "    return A * np.exp(-1 * x / T)\n",
    "\n",
    "@numba.njit()\n",
    "def compute_multiexponentials(x, As, Ts):\n",
    "    y = x * 0\n",
    "    for A, T in zip(As, Ts):\n",
    "        y += compute_exponential(x, A, T)\n",
    "    return y\n",
    "\n",
    "def general_multiexponential(params, x, data=0, sigma=1):\n",
    "    for i in range(1, 4):\n",
    "        y = []\n",
    "        As = []\n",
    "        Ts = []\n",
    "        for j in range(1, 4):\n",
    "            A = params[f'A_{i}_{j}'].value\n",
    "            T = params[f'T_{i}_{j}'].value\n",
    "            As.append(A)\n",
    "            Ts.append(T)\n",
    "        yi = compute_multiexponentials(x, As, Ts)\n",
    "        y.append(yi)\n",
    "        \n",
    "    y = np.array(y).flatten()\n",
    "    return (y - data) / sigma\n",
    "\n",
    "def hardcoded_multiexponential(params, x, data=0, sigma=1):\n",
    "    for i in range(1, 4):\n",
    "        y = []\n",
    "        As = []\n",
    "        Ts = []\n",
    "        for j in range(1, 4):\n",
    "            if j == 3:\n",
    "                A = 1 - As[0] - As[1]\n",
    "            else:\n",
    "                A = params[f'A_{i}_{j}'].value\n",
    "            T = params[f'T_{i}_{j}'].value\n",
    "            As.append(A)\n",
    "            Ts.append(T)\n",
    "        yi = compute_multiexponentials(x, As, Ts)\n",
    "        y.append(yi)\n",
    "        \n",
    "    y = np.array(y).flatten()\n",
    "    return (y - data) / sigma"
   ]
  },
  {
   "cell_type": "code",
   "execution_count": 3,
   "metadata": {},
   "outputs": [],
   "source": [
    "error = 0.01\n",
    "np.random.seed(42)"
   ]
  },
  {
   "cell_type": "code",
   "execution_count": 4,
   "metadata": {},
   "outputs": [],
   "source": [
    "params_1 = lmfit.Parameters()\n",
    "for i in range(1, 4):\n",
    "    params_1.add(f'A_{i}_1', value=0.3, min=0, max=1)\n",
    "    params_1.add(f'A_{i}_2', value=0.3, min=0, max=1)\n",
    "    params_1.add(f'A_{i}_3', expr=f'1 - A_{i}_1 - A_{i}_2')\n",
    "    params_1.add(f'T_{i}_1', value=1, min=0.5, max=2)\n",
    "    params_1.add(f'T_{i}_2', value=10, min=5, max=20)\n",
    "    params_1.add(f'T_{i}_3', value=100, min=50, max=200)\n",
    "    \n",
    "x = np.concatenate([np.array([0]), np.logspace(-3, 3, 99)])\n",
    "data = general_multiexponential(params_1, x) + error * np.random.randn(len(x))\n",
    "minimizer_1 = lmfit.Minimizer(general_multiexponential, params_1, fcn_args=(data, error))"
   ]
  },
  {
   "cell_type": "code",
   "execution_count": 5,
   "metadata": {},
   "outputs": [
    {
     "name": "stdout",
     "output_type": "stream",
     "text": [
      " "
     ]
    },
    {
     "data": {
      "text/plain": [
       "         5386025 function calls (5100928 primitive calls) in 11.698 seconds\n",
       "\n",
       "   Ordered by: internal time\n",
       "   List reduced from 1960 to 20 due to restriction <20>\n",
       "\n",
       "   ncalls  tottime  percall  cumtime  percall filename:lineno(function)\n",
       "264894/37842    1.318    0.000    2.505    0.000 asteval.py:279(run)\n",
       "     6305    0.834    0.000    7.145    0.001 <ipython-input-2-4eb2342400e6>:12(general_multiexponential)\n",
       "     1482    0.797    0.001    0.798    0.001 ffi.py:106(__call__)\n",
       "   132477    0.720    0.000    3.884    0.000 parameter.py:745(_getval)\n",
       "    18915    0.700    0.000    2.584    0.000 <ipython-input-2-4eb2342400e6>:5(compute_multiexponentials)\n",
       "   151364    0.346    0.000    1.903    0.000 typeof.py:24(typeof)\n",
       "   867571    0.297    0.000    0.301    0.000 {built-in method builtins.isinstance}\n",
       "     6305    0.294    0.000   10.355    0.002 minimizer.py:485(__residual)\n",
       "75684/37842    0.287    0.000    1.583    0.000 asteval.py:581(on_binop)\n",
       "   151322    0.284    0.000    0.606    0.000 numpy_support.py:154(map_arrayscalar_type)\n",
       "151366/151364    0.257    0.000    1.329    0.000 functools.py:819(wrapper)\n",
       "   151441    0.222    0.000    0.281    0.000 numpy_support.py:85(from_dtype)\n",
       "   132417    0.209    0.000    0.251    0.000 parameter.py:790(value)\n",
       "    37842    0.186    0.000    2.904    0.000 asteval.py:319(eval)\n",
       "    11107    0.170    0.000    0.170    0.000 {method 'reduce' of 'numpy.ufunc' objects}\n",
       "   151366    0.165    0.000    0.314    0.000 functools.py:765(dispatch)\n",
       "    75684    0.164    0.000    0.164    0.000 asteval.py:442(on_name)\n",
       "      394    0.159    0.000    8.684    0.022 _numdiff.py:444(_dense_difference)\n",
       "   152440    0.158    0.000    0.167    0.000 weakref.py:393(__getitem__)\n",
       "      393    0.156    0.000    0.272    0.001 decomp_svd.py:16(svd)"
      ]
     },
     "metadata": {},
     "output_type": "display_data"
    }
   ],
   "source": [
    "%%prun -l 20\n",
    "result_1 = minimizer_1.minimize(method='least_squares')"
   ]
  },
  {
   "cell_type": "code",
   "execution_count": 6,
   "metadata": {},
   "outputs": [],
   "source": [
    "params_2 = lmfit.Parameters()\n",
    "for i in range(1, 4):\n",
    "    params_2.add(f'A_{i}_1', value=0.3, min=0, max=1)\n",
    "    params_2.add(f'A_{i}_2', value=0.3, min=0, max=1)\n",
    "    params_2.add(f'A_{i}_3', value=0.4, min=0, max=1)\n",
    "    params_2.add(f'T_{i}_1', value=1, min=0.5, max=2)\n",
    "    params_2.add(f'T_{i}_2', value=10, min=5, max=20)\n",
    "    params_2.add(f'T_{i}_3', value=100, min=50, max=200)\n",
    "minimizer_2 = lmfit.Minimizer(general_multiexponential, params_2, fcn_args=(data, error))"
   ]
  },
  {
   "cell_type": "code",
   "execution_count": 7,
   "metadata": {},
   "outputs": [
    {
     "name": "stdout",
     "output_type": "stream",
     "text": [
      " "
     ]
    },
    {
     "data": {
      "text/plain": [
       "         11740925 function calls in 25.887 seconds\n",
       "\n",
       "   Ordered by: internal time\n",
       "   List reduced from 192 to 20 due to restriction <20>\n",
       "\n",
       "   ncalls  tottime  percall  cumtime  percall filename:lineno(function)\n",
       "    27000    3.015    0.000   15.881    0.001 <ipython-input-2-4eb2342400e6>:12(general_multiexponential)\n",
       "    81000    2.455    0.000    9.890    0.000 <ipython-input-2-4eb2342400e6>:5(compute_multiexponentials)\n",
       "   486072    1.806    0.000    1.981    0.000 parameter.py:745(_getval)\n",
       "   648000    1.325    0.000    7.436    0.000 typeof.py:24(typeof)\n",
       "    27000    1.212    0.000   20.999    0.001 minimizer.py:485(__residual)\n",
       "   648000    1.113    0.000    2.355    0.000 numpy_support.py:154(map_arrayscalar_type)\n",
       "   648000    1.024    0.000    5.277    0.000 functools.py:819(wrapper)\n",
       "   648000    0.854    0.000    1.076    0.000 numpy_support.py:85(from_dtype)\n",
       "   648000    0.676    0.000    1.268    0.000 functools.py:765(dispatch)\n",
       "   486000    0.670    0.000    0.816    0.000 parameter.py:790(value)\n",
       "   648000    0.629    0.000    2.985    0.000 typeof.py:125(_typeof_numpy_scalar)\n",
       "     1420    0.617    0.000    0.974    0.001 decomp_svd.py:16(svd)\n",
       "    44228    0.613    0.000    0.613    0.000 {method 'reduce' of 'numpy.ufunc' objects}\n",
       "     1421    0.613    0.000   20.801    0.015 _numdiff.py:444(_dense_difference)\n",
       "   648000    0.592    0.000    0.592    0.000 weakref.py:393(__getitem__)\n",
       "   109587    0.488    0.000    0.488    0.000 {built-in method numpy.core.multiarray.array}\n",
       "   648000    0.438    0.000    0.833    0.000 <string>:1(__new__)\n",
       "   648000    0.395    0.000    0.395    0.000 {built-in method __new__ of type object at 0x00007FFD3C049850}\n",
       "    27000    0.393    0.000    2.561    0.000 minimizer.py:2113(_nan_policy)\n",
       "   486072    0.390    0.000    2.371    0.000 parameter.py:785(value)"
      ]
     },
     "metadata": {},
     "output_type": "display_data"
    }
   ],
   "source": [
    "%%prun -l 20\n",
    "result_2 = minimizer_2.minimize(method='least_squares')"
   ]
  },
  {
   "cell_type": "code",
   "execution_count": 8,
   "metadata": {},
   "outputs": [],
   "source": [
    "params_3 = lmfit.Parameters()\n",
    "for i in range(1, 4):\n",
    "    params_3.add(f'A_{i}_1', value=0.3, min=0, max=1)\n",
    "    params_3.add(f'A_{i}_2', value=0.3, min=0, max=1)\n",
    "    params_3.add(f'T_{i}_1', value=1, min=0.5, max=2)\n",
    "    params_3.add(f'T_{i}_2', value=10, min=5, max=20)\n",
    "    params_3.add(f'T_{i}_3', value=100, min=50, max=200)\n",
    "minimizer_3 = lmfit.Minimizer(hardcoded_multiexponential, params_3, fcn_args=(data, error))"
   ]
  },
  {
   "cell_type": "code",
   "execution_count": 9,
   "metadata": {},
   "outputs": [
    {
     "name": "stdout",
     "output_type": "stream",
     "text": [
      " "
     ]
    },
    {
     "data": {
      "text/plain": [
       "         2669057 function calls in 5.174 seconds\n",
       "\n",
       "   Ordered by: internal time\n",
       "   List reduced from 192 to 20 due to restriction <20>\n",
       "\n",
       "   ncalls  tottime  percall  cumtime  percall filename:lineno(function)\n",
       "     6305    0.588    0.000    3.127    0.000 <ipython-input-2-4eb2342400e6>:28(hardcoded_multiexponential)\n",
       "    18915    0.474    0.000    2.006    0.000 <ipython-input-2-4eb2342400e6>:5(compute_multiexponentials)\n",
       "    94635    0.312    0.000    0.344    0.000 parameter.py:745(_getval)\n",
       "   151320    0.273    0.000    1.532    0.000 typeof.py:24(typeof)\n",
       "   151320    0.232    0.000    0.492    0.000 numpy_support.py:154(map_arrayscalar_type)\n",
       "     6305    0.221    0.000    4.089    0.001 minimizer.py:485(__residual)\n",
       "   151320    0.213    0.000    1.088    0.000 functools.py:819(wrapper)\n",
       "   151320    0.177    0.000    0.224    0.000 numpy_support.py:85(from_dtype)\n",
       "   151320    0.138    0.000    0.256    0.000 functools.py:765(dispatch)\n",
       "   151320    0.127    0.000    0.619    0.000 typeof.py:125(_typeof_numpy_scalar)\n",
       "    11104    0.123    0.000    0.123    0.000 {method 'reduce' of 'numpy.ufunc' objects}\n",
       "      394    0.121    0.000    3.996    0.010 _numdiff.py:444(_dense_difference)\n",
       "   151320    0.118    0.000    0.118    0.000 weakref.py:393(__getitem__)\n",
       "    94575    0.116    0.000    0.141    0.000 parameter.py:790(value)\n",
       "      393    0.115    0.000    0.200    0.001 decomp_svd.py:16(svd)\n",
       "    26838    0.097    0.000    0.097    0.000 {built-in method numpy.core.multiarray.array}\n",
       "   151320    0.093    0.000    0.171    0.000 <string>:1(__new__)\n",
       "     6305    0.080    0.000    0.496    0.000 minimizer.py:2113(_nan_policy)\n",
       "   151320    0.079    0.000    0.079    0.000 {built-in method __new__ of type object at 0x00007FFD3C049850}\n",
       "    14998    0.075    0.000    0.179    0.000 numeric.py:2491(seterr)"
      ]
     },
     "metadata": {},
     "output_type": "display_data"
    }
   ],
   "source": [
    "%%prun -l 20\n",
    "result_3 = minimizer_3.minimize(method='least_squares')"
   ]
  },
  {
   "cell_type": "code",
   "execution_count": 11,
   "metadata": {},
   "outputs": [
    {
     "name": "stdout",
     "output_type": "stream",
     "text": [
      "180 ns ± 8.2 ns per loop (mean ± std. dev. of 7 runs, 10000000 loops each)\n",
      "2.43 µs ± 323 ns per loop (mean ± std. dev. of 7 runs, 100000 loops each)\n"
     ]
    }
   ],
   "source": [
    "fast_params = lmfit.Parameters()\n",
    "fast_params.add('fast', value=2)\n",
    "\n",
    "%timeit fast_params['fast']\n",
    "%timeit fast_params['fast'].value"
   ]
  },
  {
   "cell_type": "code",
   "execution_count": 12,
   "metadata": {},
   "outputs": [
    {
     "name": "stdout",
     "output_type": "stream",
     "text": [
      "167 ns ± 15.4 ns per loop (mean ± std. dev. of 7 runs, 1000000 loops each)\n",
      "17.6 µs ± 2.42 µs per loop (mean ± std. dev. of 7 runs, 100000 loops each)\n"
     ]
    }
   ],
   "source": [
    "slow_params = lmfit.Parameters()\n",
    "slow_params.add('slow', expr='2')\n",
    "\n",
    "%timeit slow_params['slow']\n",
    "%timeit slow_params['slow'].value"
   ]
  },
  {
   "cell_type": "code",
   "execution_count": 13,
   "metadata": {},
   "outputs": [
    {
     "name": "stdout",
     "output_type": "stream",
     "text": [
      "194 ns ± 17.3 ns per loop (mean ± std. dev. of 7 runs, 1000000 loops each)\n",
      "17 µs ± 3.08 µs per loop (mean ± std. dev. of 7 runs, 10000 loops each)\n",
      "207 ns ± 33.1 ns per loop (mean ± std. dev. of 7 runs, 10000000 loops each)\n",
      "1.99 µs ± 128 ns per loop (mean ± std. dev. of 7 runs, 1000000 loops each)\n"
     ]
    }
   ],
   "source": [
    "both_params = lmfit.Parameters()\n",
    "both_params.add('slow', expr='2')\n",
    "both_params.add('fast', value=2)\n",
    "\n",
    "%timeit both_params['slow']\n",
    "%timeit both_params['slow'].value\n",
    "%timeit both_params['fast']\n",
    "%timeit both_params['fast'].value"
   ]
  },
  {
   "cell_type": "code",
   "execution_count": 14,
   "metadata": {},
   "outputs": [
    {
     "name": "stdout",
     "output_type": "stream",
     "text": [
      "3.7.1 | packaged by conda-forge | (default, Nov 13 2018, 19:01:41) [MSC v.1900 64 bit (AMD64)]\n",
      "lmfit version: 0.9.13\n",
      "numba version: 0.42.0\n",
      "numpy version: 1.15.4\n"
     ]
    }
   ],
   "source": [
    "print(version)\n",
    "print(f'lmfit version: {lmfit.__version__}')\n",
    "print(f'numba version: {numba.__version__}')\n",
    "print(f'numpy version: {np.__version__}')"
   ]
  }
 ],
 "metadata": {
  "kernelspec": {
   "display_name": "Python 3",
   "language": "python",
   "name": "python3"
  },
  "language_info": {
   "codemirror_mode": {
    "name": "ipython",
    "version": 3
   },
   "file_extension": ".py",
   "mimetype": "text/x-python",
   "name": "python",
   "nbconvert_exporter": "python",
   "pygments_lexer": "ipython3",
   "version": "3.7.1"
  }
 },
 "nbformat": 4,
 "nbformat_minor": 2
}
